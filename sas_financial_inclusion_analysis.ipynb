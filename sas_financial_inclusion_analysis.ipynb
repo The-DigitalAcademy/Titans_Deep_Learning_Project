{
 "cells": [
  {
   "attachments": {},
   "cell_type": "markdown",
   "metadata": {},
   "source": [
    "## Load the dataset"
   ]
  },
  {
   "cell_type": "code",
   "execution_count": null,
   "metadata": {},
   "outputs": [],
   "source": [
    "/* Generated Code (IMPORT) */\n",
    "/* Source File: Train (2).csv */\n",
    "/* Source Path: /home/u62467433/Financial Inclusion */\n",
    "/* Code generated on: 11/08/2023 09:25 */\n",
    "\n",
    "%web_drop_table(FINANCE.DATA);\n",
    "\n",
    "\n",
    "FILENAME REFFILE '/home/u62467433/Financial Inclusion/Train (2).csv';\n",
    "\n",
    "PROC IMPORT DATAFILE=REFFILE\n",
    "\tDBMS=CSV\n",
    "\tOUT=FINANCE.DATA;\n",
    "\tGETNAMES=YES;\n",
    "RUN;\n",
    "\n",
    "PROC CONTENTS DATA=FINANCE.DATA; RUN;\n",
    "\n",
    "\n",
    "%web_open_table(FINANCE.DATA);"
   ]
  },
  {
   "attachments": {},
   "cell_type": "markdown",
   "metadata": {},
   "source": [
    "## Distribution of bank account"
   ]
  },
  {
   "cell_type": "code",
   "execution_count": null,
   "metadata": {},
   "outputs": [],
   "source": [
    "/* Define Pie template */\n",
    "proc template;\n",
    "\tdefine statgraph SASStudio.Pie;\n",
    "\t\tbegingraph;\n",
    "\t\tentrytitle \"Distribution of bank account\" / textattrs=(size=14);\n",
    "\t\tlayout region;\n",
    "\t\tpiechart category=bank_account /;\n",
    "\t\tendlayout;\n",
    "\t\tendgraph;\n",
    "\tend;\n",
    "run;\n",
    "\n",
    "ods graphics / reset width=6.4in height=4.8in imagemap;\n",
    "\n",
    "proc sgrender template=SASStudio.Pie data=FINANCE.DATA;\n",
    "run;\n",
    "\n",
    "ods graphics / reset;"
   ]
  },
  {
   "attachments": {},
   "cell_type": "markdown",
   "metadata": {},
   "source": [
    "## Distribution of country"
   ]
  },
  {
   "cell_type": "code",
   "execution_count": null,
   "metadata": {},
   "outputs": [],
   "source": [
    "/* Define Pie template */\n",
    "proc template;\n",
    "\tdefine statgraph SASStudio.Pie;\n",
    "\t\tbegingraph;\n",
    "\t\tentrytitle \"Distribution of country\" / textattrs=(size=14);\n",
    "\t\tlayout region;\n",
    "\t\tpiechart category=country /;\n",
    "\t\tendlayout;\n",
    "\t\tendgraph;\n",
    "\tend;\n",
    "run;\n",
    "\n",
    "ods graphics / reset width=6.4in height=4.8in imagemap;\n",
    "\n",
    "proc sgrender template=SASStudio.Pie data=FINANCE.DATA;\n",
    "run;\n",
    "\n",
    "ods graphics / reset;"
   ]
  },
  {
   "attachments": {},
   "cell_type": "markdown",
   "metadata": {},
   "source": [
    "##  Convert uniqueid to numeric"
   ]
  },
  {
   "cell_type": "code",
   "execution_count": null,
   "metadata": {},
   "outputs": [],
   "source": [
    "\n",
    "data FINANCE.DATA; \n",
    "    set FINANCE.DATA; \n",
    "    \n",
    "    /* Extract the numeric part of the \"uniqueid\" column and convert to numeric format */\n",
    "    new_id = input(scan(uniqueid, 2, \"_\"), ?? best32.);\n",
    "\n",
    "run;"
   ]
  },
  {
   "attachments": {},
   "cell_type": "markdown",
   "metadata": {},
   "source": [
    "## Total number of persons by region and bank_account"
   ]
  },
  {
   "cell_type": "code",
   "execution_count": null,
   "metadata": {},
   "outputs": [],
   "source": [
    "\n",
    "ods graphics / reset width=6.4in height=4.8in imagemap;\n",
    "\n",
    "proc sgplot data=FINANCE.DATA;\n",
    "\ttitle height=14pt \"Total number of persons by region and bank_account\";\n",
    "\tvbar country / response=new_id group=bank_account groupdisplay=cluster \n",
    "\t\tstat=freq dataskin=sheen;\n",
    "\tyaxis grid;\n",
    "run;\n",
    "\n",
    "ods graphics / reset;\n",
    "title;"
   ]
  },
  {
   "attachments": {},
   "cell_type": "markdown",
   "metadata": {},
   "source": [
    "## Total number of persons by location_type and bank_account"
   ]
  },
  {
   "cell_type": "code",
   "execution_count": null,
   "metadata": {},
   "outputs": [],
   "source": [
    "ods graphics / reset width=6.4in height=4.8in imagemap;\n",
    "\n",
    "proc sgplot data=FINANCE.DATA;\n",
    "\ttitle height=14pt \"Total number of persons by location_type and bank_account\";\n",
    "\tvbar location_type / response=new_id group=bank_account groupdisplay=cluster \n",
    "\t\tstat=freq dataskin=sheen;\n",
    "\tyaxis grid;\n",
    "run;\n",
    "\n",
    "ods graphics / reset;\n",
    "title;\n"
   ]
  },
  {
   "attachments": {},
   "cell_type": "markdown",
   "metadata": {},
   "source": [
    "## Total number of persons by location_type and cellphone_access"
   ]
  },
  {
   "cell_type": "code",
   "execution_count": null,
   "metadata": {},
   "outputs": [],
   "source": [
    "\n",
    "ods graphics / reset width=6.4in height=4.8in imagemap;\n",
    "\n",
    "proc sgplot data=FINANCE.DATA;\n",
    "\ttitle height=14pt \"Total number of persons by location_type and cellphone_access\";\n",
    "\tvbar location_type / response=new_id group=cellphone_access groupdisplay=cluster \n",
    "\t\tstat=freq dataskin=sheen;\n",
    "\tyaxis grid;\n",
    "run;\n",
    "\n",
    "ods graphics / reset;\n",
    "title;"
   ]
  },
  {
   "attachments": {},
   "cell_type": "markdown",
   "metadata": {},
   "source": [
    "## Total number of persons by gender_of_respondent  and bank_account"
   ]
  },
  {
   "cell_type": "code",
   "execution_count": null,
   "metadata": {},
   "outputs": [],
   "source": [
    "\n",
    "ods graphics / reset width=6.4in height=4.8in imagemap;\n",
    "\n",
    "proc sgplot data=FINANCE.DATA;\n",
    "\ttitle height=14pt \"Total number of persons by gender_of_respondent  and bank_account\";\n",
    "\tvbar gender_of_respondent / response=new_id group=bank_account groupdisplay=cluster \n",
    "\t\tstat=freq dataskin=sheen;\n",
    "\tyaxis grid;\n",
    "run;\n",
    "\n",
    "ods graphics / reset;\n",
    "title;\n"
   ]
  },
  {
   "attachments": {},
   "cell_type": "markdown",
   "metadata": {},
   "source": [
    "## Total number of persons by gender_of_respondent  and age"
   ]
  },
  {
   "cell_type": "code",
   "execution_count": null,
   "metadata": {},
   "outputs": [],
   "source": [
    "\n",
    "/* Define custom format for age grouping */\n",
    "proc format;\n",
    "   value age_group\n",
    "   low -< 20 = 'Under 20'\n",
    "   20 -< 30 = '20s'\n",
    "   30 -< 40 = '30s'\n",
    "   40 -< 50 = '40s'\n",
    "   50 -< 60 = '50s'\n",
    "   60 -< 70 = '60s'\n",
    "   70 -< 80 = '70s'\n",
    "   80 - high = '80 and above';\n",
    "run;\n",
    "\n",
    "/* Apply the age grouping format to the age variable */\n",
    "DATA data1;\n",
    "   SET FINANCE.DATA;\n",
    "\n",
    "   age_group = put(age_of_respondent, age_group.);\n",
    "RUN;\n",
    "\n",
    "/* Proportion of Individuals with Bank Accounts by Age Group */\n",
    "ods graphics / reset width=6.4in height=4.8in imagemap;\n",
    "\n",
    "proc sgplot data=data1;\n",
    "\ttitle height=14pt \"Total number of persons by gender_of_respondent  and age \";\n",
    "\tvbar age_group / response=new_id group=gender_of_respondent groupdisplay=stack \n",
    "\t\tstat=freq dataskin=sheen;\n",
    "\tyaxis grid;\n",
    "run;\n",
    "\n",
    "ods graphics / reset;\n",
    "title;"
   ]
  },
  {
   "attachments": {},
   "cell_type": "markdown",
   "metadata": {},
   "source": [
    "## Age vs Education_level "
   ]
  },
  {
   "cell_type": "code",
   "execution_count": null,
   "metadata": {},
   "outputs": [],
   "source": [
    "\n",
    "\n",
    "ods graphics / reset width=6.4in height=4.8in imagemap;\n",
    "\n",
    "proc sgplot data=data1;\n",
    "\ttitle height=14pt \"Age vs Education_level\";\n",
    "\tvbar age_group / response=new_id group=education_level groupdisplay=stack \n",
    "\t\tstat=freq dataskin=sheen;\n",
    "\tyaxis grid;\n",
    "run;\n",
    "\n",
    "ods graphics / reset;\n",
    "title;"
   ]
  },
  {
   "attachments": {},
   "cell_type": "markdown",
   "metadata": {},
   "source": [
    "## Total number of persons by job_type and bank_account"
   ]
  },
  {
   "cell_type": "code",
   "execution_count": null,
   "metadata": {},
   "outputs": [],
   "source": [
    "\n",
    "ods graphics / reset width=6.4in height=4.8in imagemap;\n",
    "\n",
    "proc sgplot data=FINANCE.DATA;\n",
    "\ttitle height=14pt \"Total number of persons by job_type and bank_account\";\n",
    "\tvbar job_type / response=new_id group=bank_account groupdisplay=stack \n",
    "\t\tstat=freq dataskin=sheen;\n",
    "\tyaxis grid;\n",
    "run;\n",
    "\n",
    "ods graphics / reset;\n",
    "title;\n"
   ]
  },
  {
   "attachments": {},
   "cell_type": "markdown",
   "metadata": {},
   "source": [
    "## Total number of persons by education_level  and education_level"
   ]
  },
  {
   "cell_type": "code",
   "execution_count": null,
   "metadata": {},
   "outputs": [],
   "source": [
    "\n",
    "ods graphics / reset width=6.4in height=4.8in imagemap;\n",
    "\n",
    "proc sgplot data=FINANCE.DATA;\n",
    "\ttitle height=14pt \"Total number of persons by education_level  and job_type\";\n",
    "\tvbar job_type / response=new_id group=education_level groupdisplay=cluster \n",
    "\t\tstat=freq dataskin=sheen;\n",
    "\tyaxis grid;\n",
    "run;\n",
    "\n",
    "ods graphics / reset;\n",
    "title;"
   ]
  },
  {
   "attachments": {},
   "cell_type": "markdown",
   "metadata": {},
   "source": [
    "## Proportion of Individuals with Bank Accounts by Age Group"
   ]
  },
  {
   "cell_type": "code",
   "execution_count": null,
   "metadata": {},
   "outputs": [],
   "source": [
    "/* Define custom format for age grouping */\n",
    "proc format;\n",
    "   value age_group\n",
    "   low -< 20 = 'Under 20'\n",
    "   20 -< 30 = '20s'\n",
    "   30 -< 40 = '30s'\n",
    "   40 -< 50 = '40s'\n",
    "   50 -< 60 = '50s'\n",
    "   60 -< 70 = '60s'\n",
    "   70 -< 80 = '70s'\n",
    "   80 - high = '80 and above';\n",
    "run;\n",
    "\n",
    "/* Apply the age grouping format to the age variable */\n",
    "DATA data1;\n",
    "   SET FINANCE.DATA;\n",
    "\n",
    "   age_group = put(age_of_respondent, age_group.);\n",
    "RUN;\n",
    "\n",
    "/* Proportion of Individuals with Bank Accounts by Age Group */\n",
    "ods graphics / reset width=6.4in height=4.8in imagemap;\n",
    "\n",
    "proc sgplot data=data1;\n",
    "\ttitle height=14pt \"Proportion of Individuals with Bank Accounts by Age Group\";\n",
    "\tvbar age_group / response=new_id group=bank_account groupdisplay=stack \n",
    "\t\tstat=freq dataskin=sheen;\n",
    "\tyaxis grid;\n",
    "run;\n",
    "\n",
    "ods graphics / reset;\n",
    "title;\n",
    "\n"
   ]
  },
  {
   "attachments": {},
   "cell_type": "markdown",
   "metadata": {},
   "source": [
    "## Proportion of Individuals with cellphone_access by Age Group "
   ]
  },
  {
   "cell_type": "code",
   "execution_count": null,
   "metadata": {},
   "outputs": [],
   "source": [
    "\n",
    "ods graphics / reset width=6.4in height=4.8in imagemap;\n",
    "\n",
    "proc sgplot data=data1;\n",
    "\ttitle height=14pt \"Proportion of Individuals with Bank Accounts by Age Group\";\n",
    "\tvbar age_group / response=new_id group=cellphone_access groupdisplay=stack \n",
    "\t\tstat=freq dataskin=sheen;\n",
    "\tyaxis grid;\n",
    "run;\n",
    "\n",
    "ods graphics / reset;\n",
    "title;\n"
   ]
  }
 ],
 "metadata": {
  "language_info": {
   "name": "python"
  },
  "orig_nbformat": 4
 },
 "nbformat": 4,
 "nbformat_minor": 2
}
