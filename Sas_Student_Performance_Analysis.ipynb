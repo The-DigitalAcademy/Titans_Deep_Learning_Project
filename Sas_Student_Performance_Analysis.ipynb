{
 "cells": [
  {
   "attachments": {},
   "cell_type": "markdown",
   "metadata": {},
   "source": [
    "## Load the dataset"
   ]
  },
  {
   "cell_type": "code",
   "execution_count": null,
   "metadata": {},
   "outputs": [],
   "source": [
    "/* Generated Code (IMPORT) */\n",
    "/* Source File: StudentsPerformance.csv */\n",
    "/* Source Path: /home/u62467433/Student Performance */\n",
    "/* Code generated on: 29/08/2023 10:42 */\n",
    "\n",
    "%web_drop_table(stud.perform);\n",
    "\n",
    "\n",
    "FILENAME REFFILE '/home/u62467433/Student Performance/StudentsPerformance.csv';\n",
    "\n",
    "PROC IMPORT DATAFILE=REFFILE\n",
    "\tDBMS=CSV\n",
    "\tOUT=stud.perform;\n",
    "\tGETNAMES=YES;\n",
    "RUN;\n",
    "\n",
    "PROC CONTENTS DATA=stud.perform; RUN;\n",
    "\n",
    "\n",
    "%web_open_table(stud.perform);"
   ]
  },
  {
   "attachments": {},
   "cell_type": "markdown",
   "metadata": {},
   "source": [
    "## Distribution of Gender"
   ]
  },
  {
   "cell_type": "code",
   "execution_count": null,
   "metadata": {},
   "outputs": [],
   "source": [
    "/* Define Pie template */\n",
    "proc template;\n",
    "\tdefine statgraph SASStudio.Pie;\n",
    "\t\tbegingraph;\n",
    "\t\tentrytitle \"Distribution of gender\" / textattrs=(size=14);\n",
    "\t\tlayout region;\n",
    "\t\tpiechart category=gender /;\n",
    "\t\tendlayout;\n",
    "\t\tendgraph;\n",
    "\tend;\n",
    "run;\n",
    "\n",
    "ods graphics / reset width=6.4in height=4.8in imagemap;\n",
    "\n",
    "proc sgrender template=SASStudio.Pie data=stud.perform;\n",
    "run;\n",
    "\n",
    "ods graphics / reset;"
   ]
  },
  {
   "attachments": {},
   "cell_type": "markdown",
   "metadata": {},
   "source": [
    "## Distribution of race/ ethnicity"
   ]
  },
  {
   "cell_type": "code",
   "execution_count": null,
   "metadata": {},
   "outputs": [],
   "source": [
    "/* Define Pie template */\n",
    "proc template;\n",
    "\tdefine statgraph SASStudio.Pie;\n",
    "\t\tbegingraph;\n",
    "\t\tlayout region;\n",
    "\t\tpiechart category='race/ethnicity'n /;\n",
    "\t\tendlayout;\n",
    "\t\tendgraph;\n",
    "\tend;\n",
    "run;\n",
    "\n",
    "ods graphics / reset width=6.4in height=4.8in imagemap;\n",
    "\n",
    "proc sgrender template=SASStudio.Pie data=STUD.PERFORM;\n",
    "run;\n",
    "\n",
    "ods graphics / reset;"
   ]
  },
  {
   "attachments": {},
   "cell_type": "markdown",
   "metadata": {},
   "source": [
    "## RACE/ETHNICITY GROUP COMPARISON ON GENDER "
   ]
  },
  {
   "cell_type": "code",
   "execution_count": null,
   "metadata": {},
   "outputs": [],
   "source": [
    "\n",
    "\n",
    "ods graphics / reset width=6.4in height=4.8in imagemap;\n",
    "\n",
    "proc sgplot data=STUD.PERFORM;\n",
    "\tvbar 'race/ethnicity'n / group=gender groupdisplay=cluster;\n",
    "\tyaxis grid;\n",
    "run;\n",
    "\n",
    "ods graphics / reset;"
   ]
  },
  {
   "attachments": {},
   "cell_type": "markdown",
   "metadata": {},
   "source": [
    "## TEST PREPARATION COMPARISON ON GENDER "
   ]
  },
  {
   "cell_type": "code",
   "execution_count": null,
   "metadata": {},
   "outputs": [],
   "source": [
    "ods graphics / reset width=6.4in height=4.8in imagemap;\n",
    "\n",
    "proc sgplot data=STUD.PERFORM;\n",
    "\tvbar 'test preparation course'n / group=gender groupdisplay=cluster;\n",
    "\tyaxis grid;\n",
    "run;\n",
    "\n",
    "ods graphics / reset;"
   ]
  },
  {
   "attachments": {},
   "cell_type": "markdown",
   "metadata": {},
   "source": [
    "## RELATIONSHIP BETWEEN WRITING AND MATH IN TERMS OF GENDER "
   ]
  },
  {
   "cell_type": "code",
   "execution_count": null,
   "metadata": {},
   "outputs": [],
   "source": [
    "\n",
    "/* Create a scatterplot for Writing vs. Math scores by Gender */\n",
    "proc sgplot data=STUD.PERFORM;\n",
    "   scatter x='math score'n y='reading score'n / group=gender;\n",
    "   title \"RELATIONSHIP BETWEEN WRITING AND MATH IN TERMS OF GENDER\";\n",
    "   xaxis label=\"math score\" values=(10 to 100);\n",
    "   yaxis label=\"reading score\" values=(10 to 100);\n",
    "   keylegend / location=inside position=topright;\n",
    "run;\n"
   ]
  },
  {
   "attachments": {},
   "cell_type": "markdown",
   "metadata": {},
   "source": [
    "##  RELATIONSHIP BETWEEN WRITING AND MATH IN TERMS OF test preparation course"
   ]
  },
  {
   "cell_type": "code",
   "execution_count": null,
   "metadata": {},
   "outputs": [],
   "source": [
    "\n",
    "/* Create a scatterplot for Writing vs. Math scores by Gender */\n",
    "proc sgplot data=STUD.PERFORM;\n",
    "   scatter x='math score'n y='reading score'n / group='test preparation course'n;\n",
    "   title \"RELATIONSHIP BETWEEN WRITING AND MATH IN TERMS OF GENDER\";\n",
    "   xaxis label=\"math score\" values=(10 to 100);\n",
    "   yaxis label=\"reading score\" values=(10 to 100);\n",
    "   keylegend / location=inside position=topright;\n",
    "run;"
   ]
  }
 ],
 "metadata": {
  "language_info": {
   "name": "python"
  },
  "orig_nbformat": 4
 },
 "nbformat": 4,
 "nbformat_minor": 2
}
