{
 "cells": [
  {
   "attachments": {},
   "cell_type": "markdown",
   "metadata": {},
   "source": [
    "## Load the dataset"
   ]
  },
  {
   "cell_type": "code",
   "execution_count": null,
   "metadata": {},
   "outputs": [],
   "source": [
    "/* Generated Code (IMPORT) */\n",
    "/* Source File: StudentsPerformance.csv */\n",
    "/* Source Path: /home/u62467433/Student Performance */\n",
    "/* Code generated on: 29/08/2023 10:42 */\n",
    "\n",
    "%web_drop_table(stud.perform);\n",
    "\n",
    "\n",
    "FILENAME REFFILE '/home/u62467433/Student Performance/StudentsPerformance.csv';\n",
    "\n",
    "PROC IMPORT DATAFILE=REFFILE\n",
    "\tDBMS=CSV\n",
    "\tOUT=stud.perform;\n",
    "\tGETNAMES=YES;\n",
    "RUN;\n",
    "\n",
    "PROC CONTENTS DATA=stud.perform; RUN;\n",
    "\n",
    "\n",
    "%web_open_table(stud.perform);"
   ]
  },
  {
   "attachments": {},
   "cell_type": "markdown",
   "metadata": {},
   "source": [
    "## Distribution of Gender"
   ]
  },
  {
   "cell_type": "code",
   "execution_count": null,
   "metadata": {},
   "outputs": [],
   "source": [
    "/* Define Pie template */\n",
    "proc template;\n",
    "\tdefine statgraph SASStudio.Pie;\n",
    "\t\tbegingraph;\n",
    "\t\tentrytitle \"Distribution of gender\" / textattrs=(size=14);\n",
    "\t\tlayout region;\n",
    "\t\tpiechart category=gender /;\n",
    "\t\tendlayout;\n",
    "\t\tendgraph;\n",
    "\tend;\n",
    "run;\n",
    "\n",
    "ods graphics / reset width=6.4in height=4.8in imagemap;\n",
    "\n",
    "proc sgrender template=SASStudio.Pie data=stud.perform;\n",
    "run;\n",
    "\n",
    "ods graphics / reset;"
   ]
  },
  {
   "attachments": {},
   "cell_type": "markdown",
   "metadata": {},
   "source": [
    "## Distribution of race/ ethnicity"
   ]
  },
  {
   "cell_type": "code",
   "execution_count": null,
   "metadata": {},
   "outputs": [],
   "source": [
    "/* Define Pie template */\n",
    "proc template;\n",
    "\tdefine statgraph SASStudio.Pie;\n",
    "\t\tbegingraph;\n",
    "\t\tlayout region;\n",
    "\t\tpiechart category='race/ethnicity'n /;\n",
    "\t\tendlayout;\n",
    "\t\tendgraph;\n",
    "\tend;\n",
    "run;\n",
    "\n",
    "ods graphics / reset width=6.4in height=4.8in imagemap;\n",
    "\n",
    "proc sgrender template=SASStudio.Pie data=STUD.PERFORM;\n",
    "run;\n",
    "\n",
    "ods graphics / reset;"
   ]
  }
 ],
 "metadata": {
  "language_info": {
   "name": "python"
  },
  "orig_nbformat": 4
 },
 "nbformat": 4,
 "nbformat_minor": 2
}
